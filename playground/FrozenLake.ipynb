{
 "cells": [
  {
   "cell_type": "code",
   "execution_count": 1,
   "metadata": {
    "collapsed": false
   },
   "outputs": [],
   "source": [
    "import os\n",
    "import sys\n",
    "module_path = os.path.abspath(os.path.join('..'))\n",
    "if module_path not in sys.path:\n",
    "    sys.path.append(module_path)\n",
    "import gym\n",
    "from irl.reward_wrappers.reward_function import TabularRewardFunction"
   ]
  },
  {
   "cell_type": "code",
   "execution_count": 2,
   "metadata": {
    "collapsed": false
   },
   "outputs": [
    {
     "name": "stdout",
     "output_type": "stream",
     "text": [
      "[ 0  0  0  0  1  1  1  1  2  2  2  2  3  3  3  3  4  4  4  4  5  5  5  5\n",
      "  6  6  6  6  7  7  7  7  8  8  8  8  9  9  9  9 10 10 10 10 11 11 11 11\n",
      " 12 12 12 12 13 13 13 13 14 14 14 14 15 15 15 15]\n"
     ]
    }
   ],
   "source": [
    "env = gym.make('FrozenLake-v0')\n",
    "rew_fun = TabularRewardFunction(env, action_in_domain=True)\n",
    "rewards = rew_fun.reward(rew_fun.domain())"
   ]
  },
  {
   "cell_type": "code",
   "execution_count": 5,
   "metadata": {
    "collapsed": false
   },
   "outputs": [
    {
     "name": "stdout",
     "output_type": "stream",
     "text": [
      "state: 0, action: 0, reward: 0.0\n",
      "state: 0, action: 1, reward: 0.0\n",
      "state: 0, action: 2, reward: 0.0\n",
      "state: 0, action: 3, reward: 0.0\n",
      "state: 1, action: 0, reward: 0.0\n",
      "state: 1, action: 1, reward: 0.0\n",
      "state: 1, action: 2, reward: 0.0\n",
      "state: 1, action: 3, reward: 0.0\n",
      "state: 2, action: 0, reward: 0.0\n",
      "state: 2, action: 1, reward: 0.0\n",
      "state: 2, action: 2, reward: 0.0\n",
      "state: 2, action: 3, reward: 0.0\n",
      "state: 3, action: 0, reward: 0.0\n",
      "state: 3, action: 1, reward: 0.0\n",
      "state: 3, action: 2, reward: 0.0\n",
      "state: 3, action: 3, reward: 0.0\n",
      "state: 4, action: 0, reward: 0.0\n",
      "state: 4, action: 1, reward: 0.0\n",
      "state: 4, action: 2, reward: 0.0\n",
      "state: 4, action: 3, reward: 0.0\n",
      "state: 5, action: 0, reward: 0.0\n",
      "state: 5, action: 1, reward: 0.0\n",
      "state: 5, action: 2, reward: 0.0\n",
      "state: 5, action: 3, reward: 0.0\n",
      "state: 6, action: 0, reward: 0.0\n",
      "state: 6, action: 1, reward: 0.0\n",
      "state: 6, action: 2, reward: 0.0\n",
      "state: 6, action: 3, reward: 0.0\n",
      "state: 7, action: 0, reward: 0.0\n",
      "state: 7, action: 1, reward: 0.0\n",
      "state: 7, action: 2, reward: 0.0\n",
      "state: 7, action: 3, reward: 0.0\n",
      "state: 8, action: 0, reward: 0.0\n",
      "state: 8, action: 1, reward: 0.0\n",
      "state: 8, action: 2, reward: 0.0\n",
      "state: 8, action: 3, reward: 0.0\n",
      "state: 9, action: 0, reward: 0.0\n",
      "state: 9, action: 1, reward: 0.0\n",
      "state: 9, action: 2, reward: 0.0\n",
      "state: 9, action: 3, reward: 0.0\n",
      "state: 10, action: 0, reward: 0.0\n",
      "state: 10, action: 1, reward: 0.0\n",
      "state: 10, action: 2, reward: 0.0\n",
      "state: 10, action: 3, reward: 0.0\n",
      "state: 11, action: 0, reward: 0.0\n",
      "state: 11, action: 1, reward: 0.0\n",
      "state: 11, action: 2, reward: 0.0\n",
      "state: 11, action: 3, reward: 0.0\n",
      "state: 12, action: 0, reward: 0.0\n",
      "state: 12, action: 1, reward: 0.0\n",
      "state: 12, action: 2, reward: 0.0\n",
      "state: 12, action: 3, reward: 0.0\n",
      "state: 13, action: 0, reward: 0.0\n",
      "state: 13, action: 1, reward: 0.0\n",
      "state: 13, action: 2, reward: 0.0\n",
      "state: 13, action: 3, reward: 0.0\n",
      "state: 14, action: 0, reward: 0.0\n",
      "state: 14, action: 1, reward: 0.3333333333333333\n",
      "state: 14, action: 2, reward: 0.3333333333333333\n",
      "state: 14, action: 3, reward: 0.3333333333333333\n",
      "state: 15, action: 0, reward: 0.0\n",
      "state: 15, action: 1, reward: 0.0\n",
      "state: 15, action: 2, reward: 0.0\n",
      "state: 15, action: 3, reward: 0.0\n"
     ]
    }
   ],
   "source": [
    "for i in range(len(domain.state)):\n",
    "    print('state: ' + str(domain.state[i]) + ', action: ' + str(domain.action[i]) + ', reward: ' + str(rewards[i]))"
   ]
  },
  {
   "cell_type": "code",
   "execution_count": 4,
   "metadata": {
    "collapsed": false
   },
   "outputs": [
    {
     "data": {
      "text/plain": [
       "array([ 0,  0,  0,  0,  1,  1,  1,  1,  2,  2,  2,  2,  3,  3,  3,  3,  4,\n",
       "        4,  4,  4,  5,  5,  5,  5,  6,  6,  6,  6,  7,  7,  7,  7,  8,  8,\n",
       "        8,  8,  9,  9,  9,  9, 10, 10, 10, 10, 11, 11, 11, 11, 12, 12, 12,\n",
       "       12, 13, 13, 13, 13, 14, 14, 14, 14, 15, 15, 15, 15])"
      ]
     },
     "execution_count": 4,
     "metadata": {},
     "output_type": "execute_result"
    }
   ],
   "source": [
    "domain.state"
   ]
  },
  {
   "cell_type": "code",
   "execution_count": null,
   "metadata": {
    "collapsed": false
   },
   "outputs": [],
   "source": []
  },
  {
   "cell_type": "code",
   "execution_count": null,
   "metadata": {
    "collapsed": false
   },
   "outputs": [],
   "source": []
  },
  {
   "cell_type": "code",
   "execution_count": null,
   "metadata": {
    "collapsed": false
   },
   "outputs": [],
   "source": []
  },
  {
   "cell_type": "code",
   "execution_count": null,
   "metadata": {
    "collapsed": false
   },
   "outputs": [],
   "source": []
  },
  {
   "cell_type": "code",
   "execution_count": null,
   "metadata": {
    "collapsed": false
   },
   "outputs": [],
   "source": []
  },
  {
   "cell_type": "code",
   "execution_count": null,
   "metadata": {
    "collapsed": false
   },
   "outputs": [],
   "source": []
  },
  {
   "cell_type": "code",
   "execution_count": null,
   "metadata": {
    "collapsed": false
   },
   "outputs": [],
   "source": []
  },
  {
   "cell_type": "code",
   "execution_count": null,
   "metadata": {
    "collapsed": false
   },
   "outputs": [],
   "source": []
  },
  {
   "cell_type": "code",
   "execution_count": null,
   "metadata": {
    "collapsed": false
   },
   "outputs": [],
   "source": []
  },
  {
   "cell_type": "code",
   "execution_count": null,
   "metadata": {
    "collapsed": false
   },
   "outputs": [],
   "source": []
  },
  {
   "cell_type": "code",
   "execution_count": null,
   "metadata": {
    "collapsed": false
   },
   "outputs": [],
   "source": []
  },
  {
   "cell_type": "code",
   "execution_count": null,
   "metadata": {
    "collapsed": false
   },
   "outputs": [],
   "source": []
  },
  {
   "cell_type": "code",
   "execution_count": null,
   "metadata": {
    "collapsed": true
   },
   "outputs": [],
   "source": []
  }
 ],
 "metadata": {
  "anaconda-cloud": {},
  "kernelspec": {
   "display_name": "Python [conda env:thesis]",
   "language": "python",
   "name": "conda-env-thesis-py"
  },
  "language_info": {
   "codemirror_mode": {
    "name": "ipython",
    "version": 3
   },
   "file_extension": ".py",
   "mimetype": "text/x-python",
   "name": "python",
   "nbconvert_exporter": "python",
   "pygments_lexer": "ipython3",
   "version": "3.5.4"
  }
 },
 "nbformat": 4,
 "nbformat_minor": 1
}
